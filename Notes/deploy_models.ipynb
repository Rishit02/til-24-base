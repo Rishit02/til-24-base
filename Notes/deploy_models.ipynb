{
 "cells": [
  {
   "cell_type": "code",
   "execution_count": 1,
   "metadata": {},
   "outputs": [
    {
     "name": "stdout",
     "output_type": "stream",
     "text": [
      "{'predictions': 281}\n"
     ]
    }
   ],
   "source": [
    "import requests\n",
    "\n",
    "# Set the URL for the API\n",
    "url = \"http://localhost:8000/predict/\"\n",
    "\n",
    "# Path to the image file\n",
    "image_path = \"cat.jpeg\"\n",
    "\n",
    "# Open the image file\n",
    "with open(image_path, \"rb\") as image_file:\n",
    "    #Set up payload a dictionary with the key \"file\" and the value as the image file\n",
    "    files = {'file': (image_path, image_file, 'image/jpeg')} # this line reads the image file and sets the content type to image/jpeg\n",
    "    # Send the POST request to the API,\n",
    "    response = requests.post(url, files=files) # this line sends the request to the API with the image file\n",
    "\n",
    "# Print the response\n",
    "print(response.json())"
   ]
  },
  {
   "cell_type": "code",
   "execution_count": 2,
   "metadata": {},
   "outputs": [
    {
     "name": "stdout",
     "output_type": "stream",
     "text": [
      "{'predictions': 847}\n"
     ]
    }
   ],
   "source": [
    "import requests\n",
    "\n",
    "# Set the URL for the API\n",
    "url = \"http://localhost:8000/predict/\"\n",
    "\n",
    "# Path to the image file\n",
    "image_path = \"tank.jpeg\"\n",
    "\n",
    "# Open the image file\n",
    "with open(image_path, \"rb\") as image_file:\n",
    "    #Set up payload a dictionary with the key \"file\" and the value as the image file\n",
    "    files = {'file': (image_path, image_file, 'image/jpeg')} # this line reads the image file and sets the content type to image/jpeg\n",
    "    # Send the POST request to the API,\n",
    "    response = requests.post(url, files=files) # this line sends the request to the API with the image file\n",
    "\n",
    "# Print the response\n",
    "print(response.json())"
   ]
  },
  {
   "cell_type": "code",
   "execution_count": null,
   "metadata": {},
   "outputs": [],
   "source": []
  }
 ],
 "metadata": {
  "kernelspec": {
   "display_name": "Python 3",
   "language": "python",
   "name": "python3"
  },
  "language_info": {
   "codemirror_mode": {
    "name": "ipython",
    "version": 3
   },
   "file_extension": ".py",
   "mimetype": "text/x-python",
   "name": "python",
   "nbconvert_exporter": "python",
   "pygments_lexer": "ipython3",
   "version": "3.12.3"
  }
 },
 "nbformat": 4,
 "nbformat_minor": 2
}
